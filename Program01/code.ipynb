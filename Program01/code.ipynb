{
 "cells": [
  {
   "cell_type": "code",
   "execution_count": 1,
   "metadata": {},
   "outputs": [],
   "source": [
    "import random\n",
    "import time\n",
    "from datetime import datetime\n",
    "import json\n",
    "\n",
    "def generate_data():\n",
    "    temperature = round(random.uniform(20, 40))\n",
    "    humidity = round(random.uniform(0, 10))\n",
    "    return {\n",
    "        'Temperature': temperature,\n",
    "        'Humidity': humidity,\n",
    "        'Time': datetime.now().strftime('%Y-%m-%d %H:%M:%S')\n",
    "    }\n",
    "\n",
    "def generate_json():\n",
    "    data_freq = 10\n",
    "    data = []\n",
    "    interval = 1\n",
    "    for i in range(data_freq):\n",
    "        data_generated = generate_data()\n",
    "        data.append(data_generated)\n",
    "        time.sleep(interval)\n",
    "        with open('data.json', 'w') as f:\n",
    "            json.dump(data, f, indent=4)\n",
    "\n",
    "generate_json()\n"
   ]
  }
 ],
 "metadata": {
  "kernelspec": {
   "display_name": "Python 3",
   "language": "python",
   "name": "python3"
  },
  "language_info": {
   "codemirror_mode": {
    "name": "ipython",
    "version": 3
   },
   "file_extension": ".py",
   "mimetype": "text/x-python",
   "name": "python",
   "nbconvert_exporter": "python",
   "pygments_lexer": "ipython3",
   "version": "3.11.9"
  }
 },
 "nbformat": 4,
 "nbformat_minor": 2
}
