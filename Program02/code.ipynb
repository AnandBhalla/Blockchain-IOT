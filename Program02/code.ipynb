{
 "cells": [
  {
   "cell_type": "code",
   "execution_count": 10,
   "metadata": {},
   "outputs": [
    {
     "name": "stdout",
     "output_type": "stream",
     "text": [
      "Data encrypted and saved to file.\n",
      "Data decrypted and saved to file.\n"
     ]
    }
   ],
   "source": [
    "import json\n",
    "import os\n",
    "from cryptography.hazmat.primitives.ciphers import Cipher, algorithms, modes\n",
    "from cryptography.hazmat.primitives import padding\n",
    "\n",
    "input_file = 'D:\\\\Blockchain-IOT\\\\Program01\\\\data.json'\n",
    "encrypted_file = 'D:\\\\Blockchain-IOT\\\\Program02\\\\encrypted_data.json'\n",
    "decrypted_file = 'D:\\\\Blockchain-IOT\\\\Program02\\\\decrypted_data.json'\n",
    "\n",
    "def read_file(input_file):\n",
    "    with open(input_file, 'r') as file:\n",
    "        return json.load(file)\n",
    "\n",
    "def write_file(output_file, input_data):\n",
    "    with open(output_file, 'w') as file:\n",
    "        json.dump(input_data, file, indent=4)\n",
    "\n",
    "def pad(data):\n",
    "    padder = padding.PKCS7(algorithms.AES.block_size).padder()\n",
    "    padded_data = padder.update(data) + padder.finalize()\n",
    "    return padded_data\n",
    "\n",
    "def unpad(data):\n",
    "    unpadder = padding.PKCS7(algorithms.AES.block_size).unpadder()\n",
    "    unpadded_data = unpadder.update(data) + unpadder.finalize()\n",
    "    return unpadded_data\n",
    "\n",
    "def encrypt_data(input_file):\n",
    "    data = read_file(input_file)\n",
    "    json_data = json.dumps(data).encode('utf-8')\n",
    "    key = os.urandom(32)\n",
    "    init_vector = os.urandom(16)\n",
    "    cipher = Cipher(algorithms.AES(key), modes.CBC(init_vector))\n",
    "    encryptor = cipher.encryptor()\n",
    "    padded_data = pad(json_data)\n",
    "    cyphertext = encryptor.update(padded_data) + encryptor.finalize()\n",
    "    \n",
    "    encrypted_data = {\n",
    "        'cyphertext': cyphertext.hex(),\n",
    "        'key': key.hex(),\n",
    "        'init_vector': init_vector.hex()\n",
    "    }\n",
    "    write_file(encrypted_file, encrypted_data)\n",
    "    print(\"Data encrypted and saved to file.\")\n",
    "\n",
    "def decrypt_data(encrypted_file):\n",
    "    encrypted_data = read_file(encrypted_file)\n",
    "    cyphertext = bytes.fromhex(encrypted_data['cyphertext'])\n",
    "    key = bytes.fromhex(encrypted_data['key'])\n",
    "    init_vector = bytes.fromhex(encrypted_data['init_vector'])\n",
    "    \n",
    "    cipher = Cipher(algorithms.AES(key), modes.CBC(init_vector))\n",
    "    decryptor = cipher.decryptor()\n",
    "    padded_data = decryptor.update(cyphertext) + decryptor.finalize()\n",
    "    json_data = unpad(padded_data)\n",
    "    data = json.loads(json_data.decode('utf-8'))\n",
    "    \n",
    "    write_file(decrypted_file, data)\n",
    "    print(\"Data decrypted and saved to file.\")\n",
    "\n",
    "encrypt_data(input_file)\n",
    "\n",
    "decrypt_data(encrypted_file)\n"
   ]
  }
 ],
 "metadata": {
  "kernelspec": {
   "display_name": "Python 3",
   "language": "python",
   "name": "python3"
  },
  "language_info": {
   "codemirror_mode": {
    "name": "ipython",
    "version": 3
   },
   "file_extension": ".py",
   "mimetype": "text/x-python",
   "name": "python",
   "nbconvert_exporter": "python",
   "pygments_lexer": "ipython3",
   "version": "3.11.9"
  }
 },
 "nbformat": 4,
 "nbformat_minor": 2
}
